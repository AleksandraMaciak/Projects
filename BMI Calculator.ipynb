{
 "cells": [
  {
   "cell_type": "markdown",
   "id": "2d614066",
   "metadata": {},
   "source": [
    "# **BMI Calculator**"
   ]
  },
  {
   "cell_type": "code",
   "execution_count": 21,
   "id": "193109bb",
   "metadata": {},
   "outputs": [],
   "source": [
    "#calculations are based on the measures from this website: https://www.calculatorsoup.com/calculators/health/bmi-calculator.php\n",
    "\n",
    "# BMI = kg/m^2\n",
    "\n",
    "# <= 18.4 Underweight\n",
    "# 18.5 -24.9 Normal\n",
    "# 25.0 - 39.9 Overweight\n",
    "# >=40.0 Obese"
   ]
  },
  {
   "cell_type": "code",
   "execution_count": null,
   "id": "0ca3b686",
   "metadata": {},
   "outputs": [],
   "source": [
    "name = input(\"Enter your name: \")\n",
    "\n",
    "weight = int(input(\"Enter your weight in kilograms: \"))\n",
    "height = int(input(\"Enter your height in cm: \"))\n",
    "\n",
    "BMI = (weight)/((height/100)**2)\n",
    "\n",
    "print(name + \" your BMI is \" + str(BMI))\n",
    "\n",
    "if BMI>0:\n",
    "    if(BMI<= 18.5):\n",
    "        print('You are underweight.')\n",
    "    elif(BMI<=24.9):\n",
    "        print('You are normal weight.')\n",
    "    elif(BMI<= 39.9):\n",
    "        print('You are overweight.')\n",
    "    else:\n",
    "        print('You are obese.')\n",
    "else:\n",
    "    print('Enter valid inputs.')"
   ]
  },
  {
   "cell_type": "code",
   "execution_count": null,
   "id": "9c37444c",
   "metadata": {},
   "outputs": [],
   "source": []
  }
 ],
 "metadata": {
  "kernelspec": {
   "display_name": "Python 3 (ipykernel)",
   "language": "python",
   "name": "python3"
  },
  "language_info": {
   "codemirror_mode": {
    "name": "ipython",
    "version": 3
   },
   "file_extension": ".py",
   "mimetype": "text/x-python",
   "name": "python",
   "nbconvert_exporter": "python",
   "pygments_lexer": "ipython3",
   "version": "3.9.13"
  }
 },
 "nbformat": 4,
 "nbformat_minor": 5
}
