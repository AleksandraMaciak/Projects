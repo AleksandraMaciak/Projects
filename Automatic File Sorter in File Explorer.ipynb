{
 "cells": [
  {
   "cell_type": "markdown",
   "id": "b1b0f5f0",
   "metadata": {},
   "source": [
    "# **Automatic File Sorter in File Explorer**"
   ]
  },
  {
   "cell_type": "code",
   "execution_count": 41,
   "id": "50d3221e",
   "metadata": {},
   "outputs": [],
   "source": [
    "#importing modules\n",
    "\n",
    "import os, shutil"
   ]
  },
  {
   "cell_type": "code",
   "execution_count": 42,
   "id": "92232efa",
   "metadata": {},
   "outputs": [],
   "source": [
    "# pasting the file path\n",
    "\n",
    "path = r'C:/Users/Maciaka/OneDrive - Boston Scientific/Desktop/Projects/File sorter - files/'"
   ]
  },
  {
   "cell_type": "code",
   "execution_count": 43,
   "id": "44c6387b",
   "metadata": {},
   "outputs": [],
   "source": [
    "# checking the list of files in our folder\n",
    "\n",
    "file_name = os.listdir(path)"
   ]
  },
  {
   "cell_type": "code",
   "execution_count": 44,
   "id": "35e2282b",
   "metadata": {},
   "outputs": [
    {
     "name": "stdout",
     "output_type": "stream",
     "text": [
      "C:/Users/Maciaka/OneDrive - Boston Scientific/Desktop/Projects/File sorter - files/csv files\n",
      "C:/Users/Maciaka/OneDrive - Boston Scientific/Desktop/Projects/File sorter - files/image files\n",
      "C:/Users/Maciaka/OneDrive - Boston Scientific/Desktop/Projects/File sorter - files/text files\n"
     ]
    }
   ],
   "source": [
    "#checking if there are already folders created and creating them if necessary \n",
    "\n",
    "folder_names = ['csv files', 'image files', 'text files']\n",
    "\n",
    "for loop in range(0,3):\n",
    "    if not os.path.exists(path + folder_names[loop]):\n",
    "        print(path + folder_names[loop])\n",
    "        os.makedirs(path + folder_names[loop])"
   ]
  },
  {
   "cell_type": "code",
   "execution_count": 45,
   "id": "a1887a47",
   "metadata": {},
   "outputs": [],
   "source": [
    "# looping through the files to place them in the correct folder (if they are not already there)\n",
    "\n",
    "for file in file_name:\n",
    "    if \".csv\" in file and not os.path.exists(path + \"csv files/\" + file):\n",
    "        shutil.move(path + file, path + \"csv files/\" + file)\n",
    "    elif \".jpg\" in file and not os.path.exists(path + \"image files/\" + file):\n",
    "        shutil.move(path + file, path + \"image files/\" + file)\n",
    "    elif \".txt\" in file and not os.path.exists(path + \"text files/\" + file):\n",
    "        shutil.move(path + file, path + \"text files/\" +file)"
   ]
  },
  {
   "cell_type": "code",
   "execution_count": null,
   "id": "01d71461",
   "metadata": {},
   "outputs": [],
   "source": []
  }
 ],
 "metadata": {
  "kernelspec": {
   "display_name": "Python 3 (ipykernel)",
   "language": "python",
   "name": "python3"
  },
  "language_info": {
   "codemirror_mode": {
    "name": "ipython",
    "version": 3
   },
   "file_extension": ".py",
   "mimetype": "text/x-python",
   "name": "python",
   "nbconvert_exporter": "python",
   "pygments_lexer": "ipython3",
   "version": "3.9.13"
  }
 },
 "nbformat": 4,
 "nbformat_minor": 5
}
